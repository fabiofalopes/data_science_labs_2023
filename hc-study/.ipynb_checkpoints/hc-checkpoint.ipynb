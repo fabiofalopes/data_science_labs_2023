{
 "cells": [
  {
   "cell_type": "markdown",
   "id": "707b02cc",
   "metadata": {},
   "source": [
    "hierarchical clustering"
   ]
  },
  {
   "cell_type": "code",
   "execution_count": null,
   "id": "c456bbb6",
   "metadata": {},
   "outputs": [],
   "source": [
    "import numpy as np\n",
    "from sklearn.cluster import AgglomerativeClustering\n",
    "from scipy.cluster.hierarchy import dendrogram\n",
    "import matplotlib.pyplot as plt\n",
    "\n",
    "# Sample data (replace with your actual data)\n",
    "X = np.array([[1, 2], [1, 4], [1, 0],\n",
    "              [4, 2], [4, 4], [4, 0]])\n",
    "\n",
    "# Instantiate the clustering model and specify the linkage method\n",
    "# Options for linkage are 'ward', 'complete', 'average', 'single'\n",
    "HClust = AgglomerativeClustering(linkage='complete', n_clusters=None, distance_threshold=0)\n",
    "\n",
    "# Fit the model to the data\n",
    "hc_comp = HClust.fit(X)\n",
    "\n",
    "# To plot the dendrogram, we need to compute the linkage matrix\n",
    "# which is not directly provided by AgglomerativeClustering\n",
    "# We can use the 'linkage' function from scipy.cluster.hierarchy\n",
    "from scipy.cluster.hierarchy import linkage\n",
    "\n",
    "# Compute the linkage matrix\n",
    "linkage_matrix = linkage(X, 'complete')\n",
    "\n",
    "# Plot the dendrogram\n",
    "plt.figure(figsize=(8, 8))\n",
    "dendrogram(linkage_matrix)\n",
    "plt.title('Hierarchical Clustering Dendrogram')\n",
    "plt.xlabel('Sample index')\n",
    "plt.ylabel('Distance')\n",
    "plt.show()"
   ]
  }
 ],
 "metadata": {
  "kernelspec": {
   "display_name": "Python 3 (ipykernel)",
   "language": "python",
   "name": "python3"
  },
  "language_info": {
   "codemirror_mode": {
    "name": "ipython",
    "version": 3
   },
   "file_extension": ".py",
   "mimetype": "text/x-python",
   "name": "python",
   "nbconvert_exporter": "python",
   "pygments_lexer": "ipython3",
   "version": "3.9.2"
  }
 },
 "nbformat": 4,
 "nbformat_minor": 5
}
