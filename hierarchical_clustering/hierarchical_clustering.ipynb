{
 "cells": [
  {
   "cell_type": "code",
   "execution_count": 6,
   "id": "34a3c74d",
   "metadata": {},
   "outputs": [
    {
     "ename": "ValueError",
     "evalue": "all the input array dimensions except for the concatenation axis must match exactly, but along dimension 1, the array at index 0 has size 6 and the array at index 1 has size 7",
     "output_type": "error",
     "traceback": [
      "\u001b[0;31m---------------------------------------------------------------------------\u001b[0m",
      "\u001b[0;31mValueError\u001b[0m                                Traceback (most recent call last)",
      "Cell \u001b[0;32mIn[6], line 49\u001b[0m\n\u001b[1;32m     46\u001b[0m random_data \u001b[38;5;241m=\u001b[39m np\u001b[38;5;241m.\u001b[39mrandom\u001b[38;5;241m.\u001b[39mrand(\u001b[38;5;241m8\u001b[39m, \u001b[38;5;241m1\u001b[39m)  \u001b[38;5;66;03m# 10 observations with 2 features each\u001b[39;00m\n\u001b[1;32m     48\u001b[0m \u001b[38;5;66;03m# Perform hierarchical clustering\u001b[39;00m\n\u001b[0;32m---> 49\u001b[0m linkage_matrix \u001b[38;5;241m=\u001b[39m \u001b[43mhierarchical_clustering\u001b[49m\u001b[43m(\u001b[49m\u001b[43mrandom_data\u001b[49m\u001b[43m)\u001b[49m\n\u001b[1;32m     51\u001b[0m \u001b[38;5;66;03m# Plot the dendrogram\u001b[39;00m\n\u001b[1;32m     52\u001b[0m plt\u001b[38;5;241m.\u001b[39mfigure(figsize\u001b[38;5;241m=\u001b[39m(\u001b[38;5;241m8\u001b[39m, \u001b[38;5;241m4\u001b[39m))\n",
      "Cell \u001b[0;32mIn[6], line 39\u001b[0m, in \u001b[0;36mhierarchical_clustering\u001b[0;34m(X)\u001b[0m\n\u001b[1;32m     36\u001b[0m distances \u001b[38;5;241m=\u001b[39m np\u001b[38;5;241m.\u001b[39mdelete(distances, [i, j], axis\u001b[38;5;241m=\u001b[39m\u001b[38;5;241m1\u001b[39m)\n\u001b[1;32m     38\u001b[0m \u001b[38;5;66;03m# Add the new row and column for the merged cluster\u001b[39;00m\n\u001b[0;32m---> 39\u001b[0m distances \u001b[38;5;241m=\u001b[39m \u001b[43mnp\u001b[49m\u001b[38;5;241;43m.\u001b[39;49m\u001b[43mvstack\u001b[49m\u001b[43m(\u001b[49m\u001b[43m(\u001b[49m\u001b[43mdistances\u001b[49m\u001b[43m,\u001b[49m\u001b[43m \u001b[49m\u001b[43mnew_distances\u001b[49m\u001b[43m)\u001b[49m\u001b[43m)\u001b[49m\n\u001b[1;32m     40\u001b[0m new_distances \u001b[38;5;241m=\u001b[39m np\u001b[38;5;241m.\u001b[39mappend(new_distances, np\u001b[38;5;241m.\u001b[39minf)  \u001b[38;5;66;03m# Add inf at the end for the new column\u001b[39;00m\n\u001b[1;32m     41\u001b[0m distances \u001b[38;5;241m=\u001b[39m np\u001b[38;5;241m.\u001b[39mcolumn_stack((distances, new_distances))\n",
      "File \u001b[0;32m<__array_function__ internals>:200\u001b[0m, in \u001b[0;36mvstack\u001b[0;34m(*args, **kwargs)\u001b[0m\n",
      "File \u001b[0;32m~/.local/lib/python3.9/site-packages/numpy/core/shape_base.py:296\u001b[0m, in \u001b[0;36mvstack\u001b[0;34m(tup, dtype, casting)\u001b[0m\n\u001b[1;32m    294\u001b[0m \u001b[38;5;28;01mif\u001b[39;00m \u001b[38;5;129;01mnot\u001b[39;00m \u001b[38;5;28misinstance\u001b[39m(arrs, \u001b[38;5;28mlist\u001b[39m):\n\u001b[1;32m    295\u001b[0m     arrs \u001b[38;5;241m=\u001b[39m [arrs]\n\u001b[0;32m--> 296\u001b[0m \u001b[38;5;28;01mreturn\u001b[39;00m \u001b[43m_nx\u001b[49m\u001b[38;5;241;43m.\u001b[39;49m\u001b[43mconcatenate\u001b[49m\u001b[43m(\u001b[49m\u001b[43marrs\u001b[49m\u001b[43m,\u001b[49m\u001b[43m \u001b[49m\u001b[38;5;241;43m0\u001b[39;49m\u001b[43m,\u001b[49m\u001b[43m \u001b[49m\u001b[43mdtype\u001b[49m\u001b[38;5;241;43m=\u001b[39;49m\u001b[43mdtype\u001b[49m\u001b[43m,\u001b[49m\u001b[43m \u001b[49m\u001b[43mcasting\u001b[49m\u001b[38;5;241;43m=\u001b[39;49m\u001b[43mcasting\u001b[49m\u001b[43m)\u001b[49m\n",
      "File \u001b[0;32m<__array_function__ internals>:200\u001b[0m, in \u001b[0;36mconcatenate\u001b[0;34m(*args, **kwargs)\u001b[0m\n",
      "\u001b[0;31mValueError\u001b[0m: all the input array dimensions except for the concatenation axis must match exactly, but along dimension 1, the array at index 0 has size 6 and the array at index 1 has size 7"
     ]
    }
   ],
   "source": [
    "import numpy as np\n",
    "import matplotlib.pyplot as plt\n",
    "from scipy.spatial.distance import pdist, squareform\n",
    "\n",
    "def hierarchical_clustering(X):\n",
    "    # Calculate the pairwise distances between observations\n",
    "    distances = squareform(pdist(X, metric='euclidean'))\n",
    "    np.fill_diagonal(distances, np.inf)  # Replace diagonal with infinities to avoid self-merging\n",
    "    \n",
    "    # Initialize labels for each observation\n",
    "    labels = np.arange(X.shape[0])\n",
    "    \n",
    "    # Initialize the linkage matrix\n",
    "    linkage_matrix = []\n",
    "    \n",
    "    while len(labels) > 1:\n",
    "        # Find the two clusters that are closest together\n",
    "        i, j = np.unravel_index(np.argmin(distances), distances.shape)\n",
    "        min_dist = distances[i, j]\n",
    "        \n",
    "        # Record the linkage\n",
    "        linkage_matrix.append([labels[i], labels[j], min_dist, 2])\n",
    "        \n",
    "        # Merge the clusters\n",
    "        new_label = max(labels) + 1\n",
    "        labels = np.append(labels, new_label)\n",
    "        labels = np.delete(labels, [i, j])\n",
    "        \n",
    "        # Calculate the new distances\n",
    "        new_distances = np.min(distances[[i, j], :], axis=0)\n",
    "        new_distances = np.delete(new_distances, [i, j])\n",
    "        new_distances = np.append(new_distances, np.inf)  # Distance to itself is inf\n",
    "        \n",
    "        # Remove the old rows and columns from the distances matrix\n",
    "        distances = np.delete(distances, [i, j], axis=0)\n",
    "        distances = np.delete(distances, [i, j], axis=1)\n",
    "        \n",
    "        # Add the new row and column for the merged cluster\n",
    "        distances = np.vstack((distances, new_distances))\n",
    "        new_distances = np.append(new_distances, np.inf)  # Add inf at the end for the new column\n",
    "        distances = np.column_stack((distances, new_distances))\n",
    "    \n",
    "    return np.array(linkage_matrix)\n",
    "\n",
    "# Generate some random data\n",
    "random_data = np.random.rand(8, 1)  # 10 observations with 2 features each\n",
    "\n",
    "# Perform hierarchical clustering\n",
    "linkage_matrix = hierarchical_clustering(random_data)\n",
    "\n",
    "# Plot the dendrogram\n",
    "plt.figure(figsize=(8, 4))\n",
    "dendrogram(linkage_matrix)\n",
    "plt.title('Hierarchical Clustering Dendrogram')\n",
    "plt.xlabel('Index')\n",
    "plt.ylabel('Distance')\n",
    "plt.show()"
   ]
  },
  {
   "cell_type": "code",
   "execution_count": null,
   "id": "481a0802",
   "metadata": {},
   "outputs": [],
   "source": []
  },
  {
   "cell_type": "code",
   "execution_count": null,
   "id": "6560ff98",
   "metadata": {},
   "outputs": [],
   "source": []
  }
 ],
 "metadata": {
  "kernelspec": {
   "display_name": "Python 3 (ipykernel)",
   "language": "python",
   "name": "python3"
  },
  "language_info": {
   "codemirror_mode": {
    "name": "ipython",
    "version": 3
   },
   "file_extension": ".py",
   "mimetype": "text/x-python",
   "name": "python",
   "nbconvert_exporter": "python",
   "pygments_lexer": "ipython3",
   "version": "3.9.2"
  }
 },
 "nbformat": 4,
 "nbformat_minor": 5
}
