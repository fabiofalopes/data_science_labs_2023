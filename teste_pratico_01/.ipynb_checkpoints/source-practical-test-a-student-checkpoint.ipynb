{
 "cells": [
  {
   "cell_type": "code",
   "execution_count": 3,
   "metadata": {
    "ExecuteTime": {
     "end_time": "2023-10-16T20:00:26.623387583Z",
     "start_time": "2023-10-16T20:00:25.881229176Z"
    }
   },
   "outputs": [],
   "source": [
    "# all of your imports go here\n",
    "import pandas as pd\n",
    "import numpy as np\n",
    "import matplotlib.pyplot as plt"
   ]
  },
  {
   "cell_type": "markdown",
   "metadata": {},
   "source": [
    "# Preliminary notes\n",
    "\n",
    "This is a formal evaluation. It accounts for 30% of your final score in the practical component of the Data Science module. Please observe the following rules during the entire evaluation:\n",
    "\n",
    "1. You cannot speak to other students once that evaluation starts.\n",
    "2. There will be 15 minutes at the beginning where you can ask questions, and 5 min in the middle, and another 5 min towards the end of the test. Wait for your professor to indicate when you can ask questions.\n",
    "3. You can only consult the Python documentation site.\n",
    "4. You cannot consult any previous notebooks you created or shared with you.\n",
    "5. All the math formulae you need are included here.\n",
    "6. You can only have your Jupyter Python and a broswer pointing to the Python documentation open. Any other open tabs or apps can invalidate your test.\n",
    "7. Distributing the contents of this test is forbidden.\n"
   ]
  },
  {
   "cell_type": "markdown",
   "metadata": {},
   "source": [
    "# Questions\n",
    "\n",
    "Your goal in this evaluation is to explore a dataset on young people being exposed to advertising of video games that have weapons and fighting in them. There are just three columns: \n",
    "\n",
    "1. `exposure_mins`: how many minutes a person was exposed to the adverts\n",
    "2. `gender`: the person's gender\n",
    "3. `buying_close_score`: a score between 0-100 that indicates how close a person was to buying the game (100 means they bought it)\n",
    "\n",
    "You are required to answer the following questions:\n",
    "\n",
    "Q1. Produce scatter plot for a. Males, b. Females where you can see analytically whether there may be a relationship betwen exposure_mins and buying_close_score\n",
    "\n",
    "Q2. Were boys and girls exposed to the adverts similarly in terms of exposure minutes, use box plots and answer analitically.\n",
    "\n",
    "Q3. Produce a regression model for a pair of variables you think may be related from your analitical analysis.\n",
    "\n",
    "- What are the independent and dependent variables?\n",
    "- Describe the relationship you will study, for example, females watch more adverts\n",
    "- Obtain $\\beta_0$ and $\\beta_1$ using a naive approach or the Python libraries you explored in the lab sessions\n",
    "- Obtain the Confidence Intervals for the two coefficients.\n",
    "\n",
    "Q4. Produce a box plot array with two box plots that show the buying_close_score for a. boys who spent 5 min or less watching adverts and b. those who spent more than 5 min. Interpret your results analytically\n",
    "\n",
    "Q5. Repeat Q4 but for girls. "
   ]
  },
  {
   "cell_type": "markdown",
   "metadata": {},
   "source": [
    "# Q1. Produce scatter plot for a. Males, b. Females where you can see analytically whether there may be a relationship betwen exposure_mins and buying_close_score"
   ]
  },
  {
   "cell_type": "code",
   "execution_count": 4,
   "metadata": {},
   "outputs": [
    {
     "data": {
      "text/html": [
       "<div>\n",
       "<style scoped>\n",
       "    .dataframe tbody tr th:only-of-type {\n",
       "        vertical-align: middle;\n",
       "    }\n",
       "\n",
       "    .dataframe tbody tr th {\n",
       "        vertical-align: top;\n",
       "    }\n",
       "\n",
       "    .dataframe thead th {\n",
       "        text-align: right;\n",
       "    }\n",
       "</style>\n",
       "<table border=\"1\" class=\"dataframe\">\n",
       "  <thead>\n",
       "    <tr style=\"text-align: right;\">\n",
       "      <th></th>\n",
       "      <th>exposure_mins</th>\n",
       "      <th>gender</th>\n",
       "      <th>buying_close_score</th>\n",
       "    </tr>\n",
       "  </thead>\n",
       "  <tbody>\n",
       "    <tr>\n",
       "      <th>45</th>\n",
       "      <td>4</td>\n",
       "      <td>F</td>\n",
       "      <td>1.139676</td>\n",
       "    </tr>\n",
       "    <tr>\n",
       "      <th>46</th>\n",
       "      <td>1</td>\n",
       "      <td>F</td>\n",
       "      <td>2.135539</td>\n",
       "    </tr>\n",
       "    <tr>\n",
       "      <th>47</th>\n",
       "      <td>3</td>\n",
       "      <td>M</td>\n",
       "      <td>31.480601</td>\n",
       "    </tr>\n",
       "    <tr>\n",
       "      <th>48</th>\n",
       "      <td>6</td>\n",
       "      <td>M</td>\n",
       "      <td>61.305276</td>\n",
       "    </tr>\n",
       "    <tr>\n",
       "      <th>49</th>\n",
       "      <td>7</td>\n",
       "      <td>M</td>\n",
       "      <td>70.025567</td>\n",
       "    </tr>\n",
       "  </tbody>\n",
       "</table>\n",
       "</div>"
      ],
      "text/plain": [
       "    exposure_mins gender  buying_close_score\n",
       "45              4      F            1.139676\n",
       "46              1      F            2.135539\n",
       "47              3      M           31.480601\n",
       "48              6      M           61.305276\n",
       "49              7      M           70.025567"
      ]
     },
     "execution_count": 4,
     "metadata": {},
     "output_type": "execute_result"
    }
   ],
   "source": [
    "dados = pd.read_csv(\"dataset_a.csv\")\n",
    "dados.tail(5)"
   ]
  },
  {
   "cell_type": "markdown",
   "metadata": {},
   "source": [
    "# Q1. a) (Males)"
   ]
  },
  {
   "cell_type": "code",
   "execution_count": 5,
   "metadata": {},
   "outputs": [
    {
     "data": {
      "text/html": [
       "<div>\n",
       "<style scoped>\n",
       "    .dataframe tbody tr th:only-of-type {\n",
       "        vertical-align: middle;\n",
       "    }\n",
       "\n",
       "    .dataframe tbody tr th {\n",
       "        vertical-align: top;\n",
       "    }\n",
       "\n",
       "    .dataframe thead th {\n",
       "        text-align: right;\n",
       "    }\n",
       "</style>\n",
       "<table border=\"1\" class=\"dataframe\">\n",
       "  <thead>\n",
       "    <tr style=\"text-align: right;\">\n",
       "      <th></th>\n",
       "      <th>exposure_mins</th>\n",
       "      <th>gender</th>\n",
       "      <th>buying_close_score</th>\n",
       "    </tr>\n",
       "  </thead>\n",
       "  <tbody>\n",
       "    <tr>\n",
       "      <th>0</th>\n",
       "      <td>6</td>\n",
       "      <td>M</td>\n",
       "      <td>62.910614</td>\n",
       "    </tr>\n",
       "    <tr>\n",
       "      <th>1</th>\n",
       "      <td>3</td>\n",
       "      <td>M</td>\n",
       "      <td>34.438742</td>\n",
       "    </tr>\n",
       "    <tr>\n",
       "      <th>3</th>\n",
       "      <td>4</td>\n",
       "      <td>M</td>\n",
       "      <td>35.803912</td>\n",
       "    </tr>\n",
       "    <tr>\n",
       "      <th>15</th>\n",
       "      <td>4</td>\n",
       "      <td>M</td>\n",
       "      <td>38.453938</td>\n",
       "    </tr>\n",
       "    <tr>\n",
       "      <th>16</th>\n",
       "      <td>1</td>\n",
       "      <td>M</td>\n",
       "      <td>14.864818</td>\n",
       "    </tr>\n",
       "  </tbody>\n",
       "</table>\n",
       "</div>"
      ],
      "text/plain": [
       "    exposure_mins gender  buying_close_score\n",
       "0               6      M           62.910614\n",
       "1               3      M           34.438742\n",
       "3               4      M           35.803912\n",
       "15              4      M           38.453938\n",
       "16              1      M           14.864818"
      ]
     },
     "execution_count": 5,
     "metadata": {},
     "output_type": "execute_result"
    }
   ],
   "source": [
    "import matplotlib.pyplot as plt\n",
    "\n",
    "# Cria data frame só com Males\n",
    "dados_males = dados[dados[\"gender\"] == \"M\"] \n",
    "dados_males.head()\n"
   ]
  },
  {
   "cell_type": "code",
   "execution_count": 19,
   "metadata": {},
   "outputs": [
    {
     "data": {
      "image/png": "[encoded data removed]",
      "text/plain": [
       "<Figure size 640x480 with 1 Axes>"
      ]
     },
     "metadata": {},
     "output_type": "display_data"
    }
   ],
   "source": [
    "x = dados_males['exposure_mins']\n",
    "y = dados_males['buying_close_score']\n",
    "\n",
    "plt.scatter(x, y)\n",
    "plt.show()"
   ]
  },
  {
   "cell_type": "code",
   "execution_count": 6,
   "metadata": {},
   "outputs": [
    {
     "data": {
      "text/plain": [
       "<Axes: xlabel='exposure_mins', ylabel='buying_close_score'>"
      ]
     },
     "execution_count": 6,
     "metadata": {},
     "output_type": "execute_result"
    },
    {
     "data": {
      "image/png": "[encoded data removed]",
      "text/plain": [
       "<Figure size 640x480 with 1 Axes>"
      ]
     },
     "metadata": {},
     "output_type": "display_data"
    }
   ],
   "source": [
    "# Correccao aula (outra maneira de fazer)\n",
    "\n",
    "dados_males.plot.scatter(x='exposure_mins',\n",
    "                        y='buying_close_score')"
   ]
  },
  {
   "cell_type": "markdown",
   "metadata": {},
   "source": [
    "# Q1. b) (Femmales)"
   ]
  },
  {
   "cell_type": "code",
   "execution_count": 20,
   "metadata": {},
   "outputs": [
    {
     "data": {
      "text/html": [
       "<div>\n",
       "<style scoped>\n",
       "    .dataframe tbody tr th:only-of-type {\n",
       "        vertical-align: middle;\n",
       "    }\n",
       "\n",
       "    .dataframe tbody tr th {\n",
       "        vertical-align: top;\n",
       "    }\n",
       "\n",
       "    .dataframe thead th {\n",
       "        text-align: right;\n",
       "    }\n",
       "</style>\n",
       "<table border=\"1\" class=\"dataframe\">\n",
       "  <thead>\n",
       "    <tr style=\"text-align: right;\">\n",
       "      <th></th>\n",
       "      <th>exposure_mins</th>\n",
       "      <th>gender</th>\n",
       "      <th>buying_close_score</th>\n",
       "    </tr>\n",
       "  </thead>\n",
       "  <tbody>\n",
       "    <tr>\n",
       "      <th>2</th>\n",
       "      <td>7</td>\n",
       "      <td>F</td>\n",
       "      <td>3.645036</td>\n",
       "    </tr>\n",
       "    <tr>\n",
       "      <th>4</th>\n",
       "      <td>6</td>\n",
       "      <td>F</td>\n",
       "      <td>4.315517</td>\n",
       "    </tr>\n",
       "    <tr>\n",
       "      <th>5</th>\n",
       "      <td>9</td>\n",
       "      <td>F</td>\n",
       "      <td>3.116491</td>\n",
       "    </tr>\n",
       "    <tr>\n",
       "      <th>6</th>\n",
       "      <td>2</td>\n",
       "      <td>F</td>\n",
       "      <td>1.654490</td>\n",
       "    </tr>\n",
       "    <tr>\n",
       "      <th>7</th>\n",
       "      <td>6</td>\n",
       "      <td>F</td>\n",
       "      <td>0.317792</td>\n",
       "    </tr>\n",
       "  </tbody>\n",
       "</table>\n",
       "</div>"
      ],
      "text/plain": [
       "   exposure_mins gender  buying_close_score\n",
       "2              7      F            3.645036\n",
       "4              6      F            4.315517\n",
       "5              9      F            3.116491\n",
       "6              2      F            1.654490\n",
       "7              6      F            0.317792"
      ]
     },
     "execution_count": 20,
     "metadata": {},
     "output_type": "execute_result"
    }
   ],
   "source": [
    "# Cria data frame só com Females\n",
    "dados_females = dados[dados[\"gender\"] == \"F\"] \n",
    "dados_females.head()\n"
   ]
  },
  {
   "cell_type": "code",
   "execution_count": 21,
   "metadata": {},
   "outputs": [
    {
     "data": {
      "image/png": "[encoded data removed]",
      "text/plain": [
       "<Figure size 640x480 with 1 Axes>"
      ]
     },
     "metadata": {},
     "output_type": "display_data"
    }
   ],
   "source": [
    "xx = dados_females['exposure_mins']\n",
    "yy = dados_females['buying_close_score']\n",
    "\n",
    "plt.scatter(xx, yy)\n",
    "plt.show()"
   ]
  },
  {
   "cell_type": "markdown",
   "metadata": {},
   "source": [
    "Reflexão:\n",
    "Analisando ambos os gráficos produzidos tanto para o sexo feminino com para o masculino, observamos um mais notavel relação luniar para o lado masculino do data set em relação ao feminino."
   ]
  },
  {
   "cell_type": "markdown",
   "metadata": {},
   "source": [
    "# Q2. Were boys and girls exposed to the adverts similarly in terms of exposure minutes, use box plots and answer analitically."
   ]
  },
  {
   "cell_type": "code",
   "execution_count": 8,
   "metadata": {},
   "outputs": [
    {
     "data": {
      "image/png": "[encoded data removed]",
      "text/plain": [
       "<Figure size 640x480 with 1 Axes>"
      ]
     },
     "metadata": {},
     "output_type": "display_data"
    }
   ],
   "source": [
    "box_correcao = dados.boxplot(['exposure_mins'],by='gender') "
   ]
  },
  {
   "cell_type": "code",
   "execution_count": 36,
   "metadata": {},
   "outputs": [
    {
     "data": {
      "image/png": "[encoded data removed]",
      "text/plain": [
       "<Figure size 1000x700 with 1 Axes>"
      ]
     },
     "metadata": {},
     "output_type": "display_data"
    }
   ],
   "source": [
    "fig = plt.figure(figsize =(10, 7))\n",
    " \n",
    "plt.boxplot(dados_males['exposure_mins'])\n",
    "\n",
    "plt.show()\n",
    "\n",
    "#b = dados_males['exposure_mins']\n",
    "#type(b)"
   ]
  },
  {
   "cell_type": "code",
   "execution_count": 35,
   "metadata": {},
   "outputs": [
    {
     "data": {
      "image/png": "[encoded data removed]",
      "text/plain": [
       "<Figure size 1000x700 with 1 Axes>"
      ]
     },
     "metadata": {},
     "output_type": "display_data"
    }
   ],
   "source": [
    "fig = plt.figure(figsize =(10, 7))\n",
    "\n",
    "plt.boxplot(dados_females['exposure_mins'])\n",
    "\n",
    "plt.show()\n"
   ]
  },
  {
   "cell_type": "markdown",
   "metadata": {},
   "source": [
    "Reflexão:\n",
    "Em media as mulheres tem mais minutos de exposição a adds do que os homens. Essa relação e marcada pela media mostrada no boxplot. Existem mais entradas de mulheres."
   ]
  },
  {
   "cell_type": "code",
   "execution_count": 48,
   "metadata": {},
   "outputs": [
    {
     "data": {
      "text/plain": [
       "count    33.000000\n",
       "mean      5.000000\n",
       "std       2.839454\n",
       "min       0.000000\n",
       "25%       2.000000\n",
       "50%       5.000000\n",
       "75%       7.000000\n",
       "max       9.000000\n",
       "Name: exposure_mins, dtype: float64"
      ]
     },
     "execution_count": 48,
     "metadata": {},
     "output_type": "execute_result"
    }
   ],
   "source": [
    "dados_females['exposure_mins'].describe()\n"
   ]
  },
  {
   "cell_type": "code",
   "execution_count": 46,
   "metadata": {},
   "outputs": [
    {
     "data": {
      "text/plain": [
       "count    17.000000\n",
       "mean      4.529412\n",
       "std       2.452490\n",
       "min       0.000000\n",
       "25%       3.000000\n",
       "50%       4.000000\n",
       "75%       6.000000\n",
       "max       8.000000\n",
       "Name: exposure_mins, dtype: float64"
      ]
     },
     "execution_count": 46,
     "metadata": {},
     "output_type": "execute_result"
    }
   ],
   "source": [
    "dados_males['exposure_mins'].describe()"
   ]
  },
  {
   "cell_type": "code",
   "execution_count": 50,
   "metadata": {},
   "outputs": [
    {
     "name": "stdout",
     "output_type": "stream",
     "text": [
      "<class 'pandas.core.frame.DataFrame'>\n",
      "Int64Index: 33 entries, 2 to 46\n",
      "Data columns (total 3 columns):\n",
      " #   Column              Non-Null Count  Dtype  \n",
      "---  ------              --------------  -----  \n",
      " 0   exposure_mins       33 non-null     int64  \n",
      " 1   gender              33 non-null     object \n",
      " 2   buying_close_score  33 non-null     float64\n",
      "dtypes: float64(1), int64(1), object(1)\n",
      "memory usage: 1.0+ KB\n"
     ]
    }
   ],
   "source": [
    "dados_females.info()"
   ]
  },
  {
   "cell_type": "code",
   "execution_count": 49,
   "metadata": {},
   "outputs": [
    {
     "name": "stdout",
     "output_type": "stream",
     "text": [
      "<class 'pandas.core.frame.DataFrame'>\n",
      "Int64Index: 17 entries, 0 to 49\n",
      "Data columns (total 3 columns):\n",
      " #   Column              Non-Null Count  Dtype  \n",
      "---  ------              --------------  -----  \n",
      " 0   exposure_mins       17 non-null     int64  \n",
      " 1   gender              17 non-null     object \n",
      " 2   buying_close_score  17 non-null     float64\n",
      "dtypes: float64(1), int64(1), object(1)\n",
      "memory usage: 544.0+ bytes\n"
     ]
    }
   ],
   "source": [
    "dados_males.info()"
   ]
  },
  {
   "cell_type": "markdown",
   "metadata": {},
   "source": [
    "# Q3. Produce a regression model for a pair of variables you think may be related from your analitical analysis.\n",
    "\n",
    "    What are the independent and dependent variables?\n",
    "    Describe the relationship you will study, for example, females watch more adverts\n",
    "    Obtain 𝛽0\n",
    "\n",
    "and 𝛽1\n",
    "using a naive approach or the Python libraries you explored in the lab sessions\n",
    "Obtain the Confidence Intervals for the two coefficients."
   ]
  },
  {
   "cell_type": "code",
   "execution_count": null,
   "metadata": {},
   "outputs": [],
   "source": [
    "# dependent : buying_close_score\n",
    "# independent : gender (male) + exposure_mins"
   ]
  },
  {
   "cell_type": "code",
   "execution_count": 13,
   "metadata": {},
   "outputs": [],
   "source": [
    "import statsmodels.api as sm\n",
    "\n",
    "#x = dados_males['exposure_mins']\n",
    "#y = dados_males['buying_close_score']\n"
   ]
  },
  {
   "cell_type": "markdown",
   "metadata": {},
   "source": [
    "Vou relacionar exposure_mins com buying_close_score \n",
    "    sendo a 1ª a varavel dependente e a \n",
    "    2ª a vareavel independente\n",
    "Queremos assim encontrar a relacao entre o cliente estar proximo de comprar um producto com a quantidade de minutos expostos a publicidade."
   ]
  },
  {
   "cell_type": "code",
   "execution_count": 68,
   "metadata": {},
   "outputs": [
    {
     "name": "stdout",
     "output_type": "stream",
     "text": [
      "                            OLS Regression Results                            \n",
      "==============================================================================\n",
      "Dep. Variable:     buying_close_score   R-squared:                       0.972\n",
      "Model:                            OLS   Adj. R-squared:                  0.970\n",
      "Method:                 Least Squares   F-statistic:                     516.2\n",
      "Date:                Mon, 16 Oct 2023   Prob (F-statistic):           4.94e-13\n",
      "Time:                        22:15:45   Log-Likelihood:                -47.214\n",
      "No. Observations:                  17   AIC:                             98.43\n",
      "Df Residuals:                      15   BIC:                             100.1\n",
      "Df Model:                           1                                         \n",
      "Covariance Type:            nonrobust                                         \n",
      "=================================================================================\n",
      "                    coef    std err          t      P>|t|      [0.025      0.975]\n",
      "---------------------------------------------------------------------------------\n",
      "const             2.8845      2.160      1.336      0.202      -1.719       7.488\n",
      "exposure_mins     9.5906      0.422     22.719      0.000       8.691      10.490\n",
      "==============================================================================\n",
      "Omnibus:                        3.037   Durbin-Watson:                   1.415\n",
      "Prob(Omnibus):                  0.219   Jarque-Bera (JB):                1.401\n",
      "Skew:                          -0.675   Prob(JB):                        0.496\n",
      "Kurtosis:                       3.394   Cond. No.                         11.3\n",
      "==============================================================================\n",
      "\n",
      "Notes:\n",
      "[1] Standard Errors assume that the covariance matrix of the errors is correctly specified.\n"
     ]
    },
    {
     "name": "stderr",
     "output_type": "stream",
     "text": [
      "/usr/local/lib/python3.9/dist-packages/scipy/stats/_stats_py.py:1736: UserWarning: kurtosistest only valid for n>=20 ... continuing anyway, n=17\n",
      "  warnings.warn(\"kurtosistest only valid for n>=20 ... continuing \"\n"
     ]
    }
   ],
   "source": [
    "x = dados_males[['exposure_mins']]\n",
    "y = dados_males['buying_close_score']\n",
    "\n",
    "x = sm.add_constant(x)\n",
    "\n",
    "model = sm.OLS(y, x).fit()\n",
    "predictions = model.predict(x) \n",
    "\n",
    "print_model = model.summary()\n",
    "print(print_model)"
   ]
  },
  {
   "cell_type": "code",
   "execution_count": 19,
   "metadata": {
    "scrolled": true
   },
   "outputs": [
    {
     "name": "stdout",
     "output_type": "stream",
     "text": [
      "intercept    2.884500\n",
      "exposure     9.590598\n",
      "dtype: float64\n",
      "Intervalo de confianca :\n",
      "                  0          1\n",
      "intercept -1.718917   7.487918\n",
      "exposure   8.690841  10.490354\n"
     ]
    }
   ],
   "source": [
    "# Correção (outra maneira)\n",
    "\n",
    "X = pd.DataFrame({'intercept': np.ones(len(dados_males)),\n",
    "                  'exposure': dados_males['exposure_mins']\n",
    "                 })\n",
    "Y = dados_males['buying_close_score']\n",
    "\n",
    "modell = sm.OLS(Y,X)\n",
    "resultss = modell.fit()\n",
    "print(resultss.params)\n",
    "\n",
    "# intercept    2.884500\n",
    "# exposure     9.590598\n",
    "\n",
    "print(\"Intervalo de confianca :\")\n",
    "print(resultss.conf_int(alpha=0.05))"
   ]
  },
  {
   "cell_type": "markdown",
   "metadata": {},
   "source": [
    "# EQUAÇÃO\n",
    "\n",
    "\n",
    "$buying_close_score' = 2.8845 + 9.5906*exposure_mins + e$"
   ]
  },
  {
   "cell_type": "markdown",
   "metadata": {},
   "source": [
    "# Q4. Produce a box plot array with two box plots that show the buying_close_score for a. boys who spent 5 min or less watching adverts and b. those who spent more than 5 min. Interpret your results analytically\n"
   ]
  },
  {
   "cell_type": "code",
   "execution_count": 60,
   "metadata": {},
   "outputs": [
    {
     "data": {
      "image/png": "[encoded data removed]",
      "text/plain": [
       "<Figure size 640x480 with 1 Axes>"
      ]
     },
     "metadata": {},
     "output_type": "display_data"
    }
   ],
   "source": [
    "#MALES\n",
    "\n",
    "dados_males_less_five = dados_males[dados_males[\"exposure_mins\"] < 5] \n",
    "dados_males_more_five = dados_males[dados_males[\"exposure_mins\"] >= 5] \n",
    "\n",
    "\n",
    "box_plot_data=[dados_males_less_five['buying_close_score'],dados_males_more_five['buying_close_score']]\n",
    "plt.boxplot(box_plot_data,notch='True',patch_artist=True)\n",
    "plt.show()"
   ]
  },
  {
   "cell_type": "code",
   "execution_count": 21,
   "metadata": {},
   "outputs": [
    {
     "ename": "ValueError",
     "evalue": "bins must increase monotonically.",
     "output_type": "error",
     "traceback": [
      "\u001b[0;31m---------------------------------------------------------------------------\u001b[0m",
      "\u001b[0;31mValueError\u001b[0m                                Traceback (most recent call last)",
      "Cell \u001b[0;32mIn[21], line 8\u001b[0m\n\u001b[1;32m      1\u001b[0m \u001b[38;5;66;03m# Correcao (Outra maneira)\u001b[39;00m\n\u001b[1;32m      2\u001b[0m \n\u001b[1;32m      3\u001b[0m \u001b[38;5;66;03m# Via Pandas cut()\u001b[39;00m\n\u001b[1;32m      4\u001b[0m \n\u001b[1;32m      5\u001b[0m \u001b[38;5;66;03m# Estrategia\u001b[39;00m\n\u001b[1;32m      6\u001b[0m \u001b[38;5;66;03m# Coluna nova \u001b[39;00m\n\u001b[0;32m----> 8\u001b[0m dados[\u001b[38;5;124m'\u001b[39m\u001b[38;5;124mnova\u001b[39m\u001b[38;5;124m'\u001b[39m] \u001b[38;5;241m=\u001b[39m \u001b[43mpd\u001b[49m\u001b[38;5;241;43m.\u001b[39;49m\u001b[43mcut\u001b[49m\u001b[43m(\u001b[49m\u001b[43mdados\u001b[49m\u001b[43m[\u001b[49m\u001b[38;5;124;43m'\u001b[39;49m\u001b[38;5;124;43mexposure_mins\u001b[39;49m\u001b[38;5;124;43m'\u001b[39;49m\u001b[43m]\u001b[49m\u001b[43m,\u001b[49m\n\u001b[1;32m      9\u001b[0m \u001b[43m                       \u001b[49m\u001b[43m[\u001b[49m\u001b[38;5;241;43m-\u001b[39;49m\u001b[38;5;241;43m1\u001b[39;49m\u001b[43m,\u001b[49m\u001b[38;5;241;43m5\u001b[39;49m\u001b[38;5;241;43m-\u001b[39;49m\u001b[38;5;241;43m100000\u001b[39;49m\u001b[43m]\u001b[49m\u001b[43m,\u001b[49m\u001b[43mlabels\u001b[49m\u001b[43m \u001b[49m\u001b[38;5;241;43m=\u001b[39;49m\u001b[43m[\u001b[49m\u001b[38;5;124;43m\"\u001b[39;49m\u001b[38;5;124;43msim\u001b[39;49m\u001b[38;5;124;43m\"\u001b[39;49m\u001b[43m,\u001b[49m\u001b[38;5;124;43m\"\u001b[39;49m\u001b[38;5;124;43mnao\u001b[39;49m\u001b[38;5;124;43m\"\u001b[39;49m\u001b[43m]\u001b[49m\u001b[43m)\u001b[49m\n\u001b[1;32m     11\u001b[0m dados\n",
      "File \u001b[0;32m~/.local/lib/python3.9/site-packages/pandas/core/reshape/tile.py:291\u001b[0m, in \u001b[0;36mcut\u001b[0;34m(x, bins, right, labels, retbins, precision, include_lowest, duplicates, ordered)\u001b[0m\n\u001b[1;32m    289\u001b[0m     \u001b[38;5;66;03m# GH 26045: cast to float64 to avoid an overflow\u001b[39;00m\n\u001b[1;32m    290\u001b[0m     \u001b[38;5;28;01mif\u001b[39;00m (np\u001b[38;5;241m.\u001b[39mdiff(bins\u001b[38;5;241m.\u001b[39mastype(\u001b[38;5;124m\"\u001b[39m\u001b[38;5;124mfloat64\u001b[39m\u001b[38;5;124m\"\u001b[39m)) \u001b[38;5;241m<\u001b[39m \u001b[38;5;241m0\u001b[39m)\u001b[38;5;241m.\u001b[39many():\n\u001b[0;32m--> 291\u001b[0m         \u001b[38;5;28;01mraise\u001b[39;00m \u001b[38;5;167;01mValueError\u001b[39;00m(\u001b[38;5;124m\"\u001b[39m\u001b[38;5;124mbins must increase monotonically.\u001b[39m\u001b[38;5;124m\"\u001b[39m)\n\u001b[1;32m    293\u001b[0m fac, bins \u001b[38;5;241m=\u001b[39m _bins_to_cuts(\n\u001b[1;32m    294\u001b[0m     x,\n\u001b[1;32m    295\u001b[0m     bins,\n\u001b[0;32m   (...)\u001b[0m\n\u001b[1;32m    302\u001b[0m     ordered\u001b[38;5;241m=\u001b[39mordered,\n\u001b[1;32m    303\u001b[0m )\n\u001b[1;32m    305\u001b[0m \u001b[38;5;28;01mreturn\u001b[39;00m _postprocess_for_cut(fac, bins, retbins, dtype, original)\n",
      "\u001b[0;31mValueError\u001b[0m: bins must increase monotonically."
     ]
    }
   ],
   "source": [
    "# Correcao (Outra maneira)\n",
    "\n",
    "# Via Pandas cut()\n",
    "\n",
    "# Estrategia\n",
    "# Coluna nova \n",
    "\n",
    "dados_males['nova'] = pd.cut(dados_males['exposure_mins'],\n",
    "                       [-1,5,100000],labels =[\"sim\",\"nao\"])\n",
    "\n",
    "dados"
   ]
  },
  {
   "cell_type": "code",
   "execution_count": 62,
   "metadata": {},
   "outputs": [
    {
     "data": {
      "image/png": "[encoded data removed]",
      "text/plain": [
       "<Figure size 640x480 with 1 Axes>"
      ]
     },
     "metadata": {},
     "output_type": "display_data"
    }
   ],
   "source": [
    "#FEMALES\n",
    "\n",
    "dados_females_less_five = dados_females[dados_females[\"exposure_mins\"] < 5] \n",
    "dados_females_more_five = dados_females[dados_females[\"exposure_mins\"] >= 5] \n",
    "\n",
    "\n",
    "box_plot_data=[dados_females_less_five['buying_close_score'],dados_females_more_five['buying_close_score']]\n",
    "plt.boxplot(box_plot_data,patch_artist=True)\n",
    "plt.show()"
   ]
  },
  {
   "cell_type": "code",
   "execution_count": 66,
   "metadata": {},
   "outputs": [
    {
     "name": "stdout",
     "output_type": "stream",
     "text": [
      "<class 'pandas.core.frame.DataFrame'>\n",
      "Int64Index: 14 entries, 6 to 46\n",
      "Data columns (total 3 columns):\n",
      " #   Column              Non-Null Count  Dtype  \n",
      "---  ------              --------------  -----  \n",
      " 0   exposure_mins       14 non-null     int64  \n",
      " 1   gender              14 non-null     object \n",
      " 2   buying_close_score  14 non-null     float64\n",
      "dtypes: float64(1), int64(1), object(1)\n",
      "memory usage: 448.0+ bytes\n"
     ]
    }
   ],
   "source": [
    "dados_females_less_five.info()"
   ]
  },
  {
   "cell_type": "markdown",
   "metadata": {},
   "source": [
    "Existe uma maior variacia da buying_close_score para mulheres que veem mais anuncios, embora as 2 amostras sejam 14 mulheres (< 5) e 19 (> 5) \n",
    "\n",
    "Para os homens essa relação e mais direta e vemos diretamente que para o grupo que tem mais que 5 minutos de exposição a anuncio, a relacao buying_close_score é muito maior."
   ]
  },
  {
   "cell_type": "code",
   "execution_count": 61,
   "metadata": {},
   "outputs": [],
   "source": [
    "# Your code for all the questions must be here\n",
    "\n",
    "# Question 1\n",
    "\n",
    "\n",
    "# Question 2 \n",
    "\n",
    "\n",
    "# Question 3\n",
    "\n",
    "\n",
    "# Question 4\n",
    "\n",
    "\n",
    "# Question 5\n",
    "\n"
   ]
  },
  {
   "cell_type": "markdown",
   "metadata": {},
   "source": [
    "# Evaluation\n",
    "\n",
    "Your teacher will write one or two questions here. You must answer those questions here as well.\n",
    "\n",
    "Teacher question(s):\n",
    "\n",
    "# Para a n3 o que é um intervalo de confianca?\n",
    "R: É o intervalo para o qual, com certeza, o real valor de B0 e B1 existe.\n",
    "\n"
   ]
  },
  {
   "cell_type": "markdown",
   "metadata": {},
   "source": []
  }
 ],
 "metadata": {
  "kernelspec": {
   "display_name": "Python 3 (ipykernel)",
   "language": "python",
   "name": "python3"
  },
  "language_info": {
   "codemirror_mode": {
    "name": "ipython",
    "version": 3
   },
   "file_extension": ".py",
   "mimetype": "text/x-python",
   "name": "python",
   "nbconvert_exporter": "python",
   "pygments_lexer": "ipython3",
   "version": "3.9.2"
  }
 },
 "nbformat": 4,
 "nbformat_minor": 2
}
